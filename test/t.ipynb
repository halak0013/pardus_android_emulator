{
 "cells": [
  {
   "cell_type": "code",
   "execution_count": null,
   "metadata": {},
   "outputs": [],
   "source": [
    "with open(\"co.config\", \"r\") as file:\n",
    "    lines = file.readlines()\n",
    "\n",
    "new_lines = []\n",
    "for line in lines:\n",
    "    if line.startswith(\"hw.ramSize\"):\n",
    "        line = \"hw.ramSize 5000M\\n\"\n",
    "    elif line.startswith(\"hw.gpu.enabled\"):\n",
    "        line = \"hw.gpu.enabled yes\\n\"\n",
    "    new_lines.append(line)\n",
    "\n",
    "with open(\"ayarlar_yeni.txt\", \"w\") as file:\n",
    "    file.writelines(new_lines)"
   ]
  },
  {
   "cell_type": "code",
   "execution_count": 4,
   "metadata": {},
   "outputs": [],
   "source": [
    "import gi\n",
    "gi.require_version(\"Gtk\", \"3.0\")\n",
    "from gi.repository import Gtk\n",
    "\n",
    "class MyWindow(Gtk.Window):\n",
    "    def __init__(self):\n",
    "        Gtk.Window.__init__(self, title=\"Radio Button Örneği\")\n",
    "        self.set_default_size(200, 100)\n",
    "        box=Gtk.Box()\n",
    "        list_box = Gtk.ListBox()\n",
    "        box.add(list_box)\n",
    "        list_box.add( Gtk.Label(label=\"Öğe 1\"))\n",
    "        list_box.add( Gtk.Label(label=\"Öğe 1\"))\n",
    "        self.radio_button1 = Gtk.RadioButton.new_with_label_from_widget(None, \"Seçenek 1\")\n",
    "        self.radio_button2 = Gtk.RadioButton.new_from_widget(self.radio_button1)\n",
    "        self.radio_button2.set_label(\"Seçenek 2\")\n",
    "        self.radio_button3 = Gtk.RadioButton.new_from_widget(self.radio_button1)\n",
    "        self.radio_button3.set_label(\"Seçenek 3\")\n",
    "\n",
    "        self.radio_button1.connect(\"toggled\", self.on_radio_button_toggled)\n",
    "        self.radio_button2.connect(\"toggled\", self.on_radio_button_toggled)\n",
    "        self.radio_button3.connect(\"toggled\", self.on_radio_button_toggled)\n",
    "\n",
    "        box.add(self.radio_button1)\n",
    "        box.add(self.radio_button2)\n",
    "        box.add(self.radio_button3)\n",
    "\n",
    "        self.add(box)\n",
    "\n",
    "    def on_radio_button_toggled(self, button):\n",
    "        if button.get_active():\n",
    "            label = button.get_label()\n",
    "            print(f\"Seçili değer: {label}\")\n",
    "\n",
    "win = MyWindow()\n",
    "win.connect(\"destroy\", Gtk.main_quit)\n",
    "win.show_all()\n",
    "Gtk.main()\n"
   ]
  },
  {
   "cell_type": "code",
   "execution_count": 1,
   "metadata": {},
   "outputs": [
    {
     "data": {
      "text/plain": [
       "['armut ea ee', 'elma']"
      ]
     },
     "execution_count": 1,
     "metadata": {},
     "output_type": "execute_result"
    }
   ],
   "source": [
    "o='''armut ea ee\n",
    "elma\n",
    "\n",
    "'''\n",
    "\n",
    "lst = o.strip().split(\"\\n\")\n",
    "lst"
   ]
  },
  {
   "cell_type": "code",
   "execution_count": 5,
   "metadata": {},
   "outputs": [
    {
     "data": {
      "text/plain": [
       "'yes'"
      ]
     },
     "execution_count": 5,
     "metadata": {},
     "output_type": "execute_result"
    }
   ],
   "source": [
    "s=\"hw.keyboard yes\"\n",
    "s.split()[-1]"
   ]
  },
  {
   "cell_type": "code",
   "execution_count": 6,
   "metadata": {},
   "outputs": [
    {
     "name": "stdout",
     "output_type": "stream",
     "text": [
      "func1 çalıştı. Parametre: parametre değeri\n",
      "func2 çalıştı. Parametre: parametre değeri\n",
      "func3 çalıştı. Parametre: parametre değeri\n"
     ]
    }
   ],
   "source": [
    "def func1(param):\n",
    "    print(\"func1 çalıştı. Parametre:\", param)\n",
    "\n",
    "def func2(param):\n",
    "    print(\"func2 çalıştı. Parametre:\", param)\n",
    "\n",
    "def func3(param):\n",
    "    print(\"func3 çalıştı. Parametre:\", param)\n",
    "\n",
    "# Fonksiyonları bir diziye yerleştirin\n",
    "fonksiyonlar = [func1, func2, func3]\n",
    "\n",
    "# Fonksiyonları for döngüsüyle çağırın\n",
    "for fonksiyon in fonksiyonlar:\n",
    "    fonksiyon(\"parametre değeri\")\n"
   ]
  },
  {
   "cell_type": "code",
   "execution_count": 8,
   "metadata": {},
   "outputs": [
    {
     "data": {
      "text/plain": [
       "[1, 2, 3, 2]"
      ]
     },
     "execution_count": 8,
     "metadata": {},
     "output_type": "execute_result"
    }
   ],
   "source": [
    "a=[1,2,3]\n",
    "b=[2]\n",
    "c=a+b\n",
    "c"
   ]
  },
  {
   "cell_type": "code",
   "execution_count": 6,
   "metadata": {},
   "outputs": [
    {
     "name": "stdout",
     "output_type": "stream",
     "text": [
      "İşlemci çekirdek sayısı: 12\n",
      "[0, 1, 2, 3, 4, 5, 6, 7, 8, 9, 10, 11]\n"
     ]
    }
   ],
   "source": [
    "import os\n",
    "\n",
    "# İşlemci çekirdek sayısını öğrenmek için\n",
    "num_cores = os.cpu_count()\n",
    "print(\"İşlemci çekirdek sayısı:\", num_cores)\n",
    "print(list(range(0,os.cpu_count())))"
   ]
  },
  {
   "cell_type": "code",
   "execution_count": 1,
   "metadata": {},
   "outputs": [
    {
     "data": {
      "text/plain": [
       "'571'"
      ]
     },
     "execution_count": 1,
     "metadata": {},
     "output_type": "execute_result"
    }
   ],
   "source": [
    "a=\"571m\"\n",
    "a[:-1]"
   ]
  },
  {
   "cell_type": "code",
   "execution_count": 2,
   "metadata": {},
   "outputs": [],
   "source": [
    "!cp -r a b c"
   ]
  }
 ],
 "metadata": {
  "kernelspec": {
   "display_name": "Python 3",
   "language": "python",
   "name": "python3"
  },
  "language_info": {
   "codemirror_mode": {
    "name": "ipython",
    "version": 3
   },
   "file_extension": ".py",
   "mimetype": "text/x-python",
   "name": "python",
   "nbconvert_exporter": "python",
   "pygments_lexer": "ipython3",
   "version": "3.9.2"
  },
  "orig_nbformat": 4
 },
 "nbformat": 4,
 "nbformat_minor": 2
}
